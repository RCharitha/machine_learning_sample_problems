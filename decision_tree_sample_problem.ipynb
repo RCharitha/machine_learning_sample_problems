{
 "cells": [
  {
   "cell_type": "code",
   "execution_count": null,
   "id": "23cd474f-f91a-4b7b-9f80-3a92971d4356",
   "metadata": {},
   "outputs": [],
   "source": []
  }
 ],
 "metadata": {
  "kernelspec": {
   "display_name": "",
   "name": ""
  },
  "language_info": {
   "name": ""
  }
 },
 "nbformat": 4,
 "nbformat_minor": 5
}
